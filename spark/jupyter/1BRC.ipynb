{
 "cells": [
  {
   "cell_type": "code",
   "execution_count": 1,
   "id": "23f95402-b0ea-4064-9a3e-06d94dac7e13",
   "metadata": {},
   "outputs": [],
   "source": [
    "from pyspark.sql import SparkSession, Window\n",
    "from pyspark.sql.functions import *\n",
    "from pyspark.sql.types import *"
   ]
  },
  {
   "cell_type": "code",
   "execution_count": 2,
   "id": "dd137b3b-dba9-4828-9471-69b498fde499",
   "metadata": {},
   "outputs": [],
   "source": [
    "spark = SparkSession.builder \\\n",
    "    .master(\"spark://spark-master:7077\")\\\n",
    "    .appName(\"1 billion row challenge\") \\\n",
    "    .getOrCreate()"
   ]
  },
  {
   "cell_type": "code",
   "execution_count": 3,
   "id": "2d418595-916a-4c43-98b6-c744dc25a5ef",
   "metadata": {},
   "outputs": [
    {
     "data": {
      "text/html": [
       "\n",
       "        <div>\n",
       "            <p><b>SparkContext</b></p>\n",
       "\n",
       "            <p><a href=\"http://a889a021ff96:4040\">Spark UI</a></p>\n",
       "\n",
       "            <dl>\n",
       "              <dt>Version</dt>\n",
       "                <dd><code>v3.5.0</code></dd>\n",
       "              <dt>Master</dt>\n",
       "                <dd><code>spark://spark-master:7077</code></dd>\n",
       "              <dt>AppName</dt>\n",
       "                <dd><code>1 billion row challenge</code></dd>\n",
       "            </dl>\n",
       "        </div>\n",
       "        "
      ],
      "text/plain": [
       "<SparkContext master=spark://spark-master:7077 appName=1 billion row challenge>"
      ]
     },
     "execution_count": 3,
     "metadata": {},
     "output_type": "execute_result"
    }
   ],
   "source": [
    "spark.sparkContext"
   ]
  },
  {
   "cell_type": "code",
   "execution_count": 4,
   "id": "a053a074-2549-4112-9fbb-1926fad1076e",
   "metadata": {},
   "outputs": [],
   "source": [
    "schema = StructType() \\\n",
    "        .add(\"CITY\",StringType(),True) \\\n",
    "        .add(\"MEASUREMENT\",StringType(),True)"
   ]
  },
  {
   "cell_type": "code",
   "execution_count": 5,
   "id": "46fb3b1a-28f1-48eb-812c-df81b2503c8c",
   "metadata": {},
   "outputs": [],
   "source": [
    "data = spark\\\n",
    "    .read\\\n",
    "    .format(\"com.databricks.spark.csv\")\\\n",
    "    .options(inferSchema='True')\\\n",
    "    .options(delimiter=';')\\\n",
    "    .options(header='False')\\\n",
    "    .schema(schema)\\\n",
    "    .load(\"/data/measurements.csv\")"
   ]
  },
  {
   "cell_type": "code",
   "execution_count": 6,
   "id": "4adfba8c-4021-4228-85fe-62bf20e38497",
   "metadata": {},
   "outputs": [
    {
     "name": "stdout",
     "output_type": "stream",
     "text": [
      "+--------------------+-----------+\n",
      "|                CITY|MEASUREMENT|\n",
      "+--------------------+-----------+\n",
      "|               Sorso|      -42.0|\n",
      "|           Miacatlán|      -91.8|\n",
      "|             Milagro|       21.2|\n",
      "|             Denizli|        7.7|\n",
      "|          Boa Viagem|       46.3|\n",
      "|             Draveil|      -56.7|\n",
      "|Blunsdon Saint An...|       69.7|\n",
      "|                Burg|       12.5|\n",
      "|            Reyhanlı|       91.9|\n",
      "|              Pudtol|      -86.8|\n",
      "+--------------------+-----------+\n",
      "only showing top 10 rows\n",
      "\n"
     ]
    }
   ],
   "source": [
    "data.show(10)"
   ]
  },
  {
   "cell_type": "code",
   "execution_count": 8,
   "id": "ea16fe54-8920-4110-b5e5-4a0b58d174c3",
   "metadata": {},
   "outputs": [],
   "source": [
    "data\\\n",
    "    .repartition(100)\\\n",
    "    .groupBy(\"city\")\\\n",
    "    .agg(min(\"measurement\").alias(\"min\"), avg(\"measurement\").alias(\"mean\"), max(\"measurement\").alias(\"max\"))\\\n",
    "    .orderBy(\"city\")\\\n",
    "    .coalesce(1)\\\n",
    "    .write\\\n",
    "    .format(\"csv\")\\\n",
    "    .save(\"/data/result.csv\")"
   ]
  }
 ],
 "metadata": {
  "kernelspec": {
   "display_name": "Python 3 (ipykernel)",
   "language": "python",
   "name": "python3"
  },
  "language_info": {
   "codemirror_mode": {
    "name": "ipython",
    "version": 3
   },
   "file_extension": ".py",
   "mimetype": "text/x-python",
   "name": "python",
   "nbconvert_exporter": "python",
   "pygments_lexer": "ipython3",
   "version": "3.11.6"
  }
 },
 "nbformat": 4,
 "nbformat_minor": 5
}
